{
 "cells": [
  {
   "cell_type": "code",
   "execution_count": 1,
   "metadata": {},
   "outputs": [],
   "source": [
    "import numpy as np\n",
    "import pandas as pd\n",
    "from sklearn.model_selection import train_test_split\n",
    "from sklearn.metrics import confusion_matrix\n",
    "from sklearn.tree import DecisionTreeClassifier\n",
    "from sklearn.metrics import accuracy_score\n",
    "from sklearn.metrics import classification_report\n",
    "from sklearn import preprocessing\n",
    "import matplotlib.pyplot as plt"
   ]
  },
  {
   "cell_type": "code",
   "execution_count": 2,
   "metadata": {},
   "outputs": [],
   "source": [
    "data_set = pd.read_csv(\"breast-cancer-wisconsin.data_MISSING_DATA_ROWS_REPLACED.csv\")"
   ]
  },
  {
   "cell_type": "code",
   "execution_count": 3,
   "metadata": {},
   "outputs": [],
   "source": [
    "data_clean = data_set.dropna()"
   ]
  },
  {
   "cell_type": "code",
   "execution_count": 4,
   "metadata": {},
   "outputs": [
    {
     "name": "stdout",
     "output_type": "stream",
     "text": [
      "               code  clump_thickness  uniformity_of_cell_size  \\\n",
      "count  6.990000e+02       699.000000               699.000000   \n",
      "mean   1.071704e+06         4.417740                 3.134478   \n",
      "std    6.170957e+05         2.815741                 3.051459   \n",
      "min    6.163400e+04         1.000000                 1.000000   \n",
      "25%    8.706885e+05         2.000000                 1.000000   \n",
      "50%    1.171710e+06         4.000000                 1.000000   \n",
      "75%    1.238298e+06         6.000000                 5.000000   \n",
      "max    1.345435e+07        10.000000                10.000000   \n",
      "\n",
      "       uniformity_of_cell_shape  marginal_adhesion  \\\n",
      "count                699.000000         699.000000   \n",
      "mean                   3.207439           2.806867   \n",
      "std                    2.971913           2.855379   \n",
      "min                    1.000000           1.000000   \n",
      "25%                    1.000000           1.000000   \n",
      "50%                    1.000000           1.000000   \n",
      "75%                    5.000000           4.000000   \n",
      "max                   10.000000          10.000000   \n",
      "\n",
      "       single_epithelial_cell_size  bare_nuclei  bland_chromatin  \\\n",
      "count                   699.000000   699.000000       699.000000   \n",
      "mean                      3.216023     3.486409         3.437768   \n",
      "std                       2.214300     3.621929         2.438364   \n",
      "min                       1.000000     1.000000         1.000000   \n",
      "25%                       2.000000     1.000000         2.000000   \n",
      "50%                       2.000000     1.000000         3.000000   \n",
      "75%                       4.000000     5.000000         5.000000   \n",
      "max                      10.000000    10.000000        10.000000   \n",
      "\n",
      "       normal_nucleoli     mitoses      target  \n",
      "count       699.000000  699.000000  699.000000  \n",
      "mean          2.866953    1.589413    2.689557  \n",
      "std           3.053634    1.715078    0.951273  \n",
      "min           1.000000    1.000000    2.000000  \n",
      "25%           1.000000    1.000000    2.000000  \n",
      "50%           1.000000    1.000000    2.000000  \n",
      "75%           4.000000    1.000000    4.000000  \n",
      "max          10.000000   10.000000    4.000000  \n"
     ]
    }
   ],
   "source": [
    "print(data_clean.describe())"
   ]
  },
  {
   "cell_type": "code",
   "execution_count": 5,
   "metadata": {},
   "outputs": [],
   "source": [
    "predictors = data_clean[[\n",
    " \"code\",\n",
    "\"clump_thickness\",\n",
    "\"uniformity_of_cell_size\",\n",
    "\"uniformity_of_cell_shape\",\n",
    "\"marginal_adhesion\",\n",
    "\"single_epithelial_cell_size\",\n",
    "\"bare_nuclei\",\n",
    "\"bland_chromatin\",\n",
    "\"normal_nucleoli\",\n",
    "\"mitoses\"\n",
    "]]"
   ]
  },
  {
   "cell_type": "code",
   "execution_count": 6,
   "metadata": {},
   "outputs": [],
   "source": [
    "targets = data_clean.target"
   ]
  },
  {
   "cell_type": "code",
   "execution_count": 7,
   "metadata": {},
   "outputs": [],
   "source": [
    "pred_train, pred_test, targ_train, targ_test = train_test_split(predictors, targets, test_size = 0.35)"
   ]
  },
  {
   "cell_type": "code",
   "execution_count": 8,
   "metadata": {},
   "outputs": [],
   "source": [
    "classifier = DecisionTreeClassifier()\n",
    "classifier = classifier.fit(pred_train, targ_train)"
   ]
  },
  {
   "cell_type": "code",
   "execution_count": 9,
   "metadata": {},
   "outputs": [],
   "source": [
    "predictions = classifier.predict(pred_test)"
   ]
  },
  {
   "cell_type": "code",
   "execution_count": 24,
   "metadata": {},
   "outputs": [
    {
     "name": "stdout",
     "output_type": "stream",
     "text": [
      "[[151   4]\n",
      " [  7  83]]\n",
      "0.9551020408163265\n"
     ]
    }
   ],
   "source": [
    "print(confusion_matrix(targ_test, predictions))\n",
    "print(accuracy_score(targ_test, predictions))"
   ]
  }
 ],
 "metadata": {
  "kernelspec": {
   "display_name": "Python 3",
   "language": "python",
   "name": "python3"
  },
  "language_info": {
   "codemirror_mode": {
    "name": "ipython",
    "version": 3
   },
   "file_extension": ".py",
   "mimetype": "text/x-python",
   "name": "python",
   "nbconvert_exporter": "python",
   "pygments_lexer": "ipython3",
   "version": "3.7.4"
  }
 },
 "nbformat": 4,
 "nbformat_minor": 2
}
